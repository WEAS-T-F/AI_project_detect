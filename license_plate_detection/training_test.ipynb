{
 "cells": [
  {
   "cell_type": "code",
   "execution_count": 1,
   "metadata": {},
   "outputs": [
    {
     "name": "stderr",
     "output_type": "stream",
     "text": [
      "Using TensorFlow backend.\n"
     ]
    },
    {
     "name": "stdout",
     "output_type": "stream",
     "text": [
      "WARNING:tensorflow:From G:\\Anaconda\\envs\\test\\lib\\site-packages\\keras\\backend\\tensorflow_backend.py:146: The name tf.get_default_graph is deprecated. Please use tf.compat.v1.get_default_graph instead.\n",
      "\n"
     ]
    }
   ],
   "source": [
    "from keras import backend as K\n",
    "from keras.optimizers import Adadelta\n",
    "from keras.callbacks import EarlyStopping, ModelCheckpoint\n",
    "from Image_Generator import TextImageGenerator\n",
    "from Model import get_Model\n",
    "from parameter import *\n",
    "K.set_learning_phase(0)"
   ]
  },
  {
   "cell_type": "code",
   "execution_count": 2,
   "metadata": {},
   "outputs": [],
   "source": [
    "import tensorflow as tf\n",
    "tf.__version__\n",
    "tf.debugging.set_log_device_placement(True)\n",
    "config = tf.ConfigProto()\n",
    "config.gpu_options.allow_growth = True\n",
    "session = tf.Session(config=config)"
   ]
  },
  {
   "cell_type": "code",
   "execution_count": 3,
   "metadata": {},
   "outputs": [
    {
     "name": "stdout",
     "output_type": "stream",
     "text": [
      "[name: \"/device:CPU:0\"\n",
      "device_type: \"CPU\"\n",
      "memory_limit: 268435456\n",
      "locality {\n",
      "}\n",
      "incarnation: 16974245698991334156\n",
      ", name: \"/device:GPU:0\"\n",
      "device_type: \"GPU\"\n",
      "memory_limit: 6620742943\n",
      "locality {\n",
      "  bus_id: 1\n",
      "  links {\n",
      "  }\n",
      "}\n",
      "incarnation: 3659067603066773939\n",
      "physical_device_desc: \"device: 0, name: GeForce RTX 2070, pci bus id: 0000:01:00.0, compute capability: 7.5\"\n",
      "]\n"
     ]
    }
   ],
   "source": [
    "from tensorflow.python.client import device_lib\n",
    "\n",
    "print(device_lib.list_local_devices())\n"
   ]
  },
  {
   "cell_type": "code",
   "execution_count": 4,
   "metadata": {},
   "outputs": [
    {
     "name": "stdout",
     "output_type": "stream",
     "text": [
      "WARNING:tensorflow:From G:\\Anaconda\\envs\\test\\lib\\site-packages\\keras\\backend\\tensorflow_backend.py:504: The name tf.placeholder is deprecated. Please use tf.compat.v1.placeholder instead.\n",
      "\n",
      "WARNING:tensorflow:From G:\\Anaconda\\envs\\test\\lib\\site-packages\\keras\\backend\\tensorflow_backend.py:3875: The name tf.truncated_normal is deprecated. Please use tf.random.truncated_normal instead.\n",
      "\n",
      "WARNING:tensorflow:From G:\\Anaconda\\envs\\test\\lib\\site-packages\\keras\\backend\\tensorflow_backend.py:166: The name tf.get_default_session is deprecated. Please use tf.compat.v1.get_default_session instead.\n",
      "\n",
      "WARNING:tensorflow:From G:\\Anaconda\\envs\\test\\lib\\site-packages\\keras\\backend\\tensorflow_backend.py:171: The name tf.ConfigProto is deprecated. Please use tf.compat.v1.ConfigProto instead.\n",
      "\n",
      "WARNING:tensorflow:From G:\\Anaconda\\envs\\test\\lib\\site-packages\\keras\\backend\\tensorflow_backend.py:1794: The name tf.nn.fused_batch_norm is deprecated. Please use tf.compat.v1.nn.fused_batch_norm instead.\n",
      "\n",
      "WARNING:tensorflow:From G:\\Anaconda\\envs\\test\\lib\\site-packages\\keras\\backend\\tensorflow_backend.py:3652: The name tf.nn.max_pool is deprecated. Please use tf.nn.max_pool2d instead.\n",
      "\n",
      "WARNING:tensorflow:From G:\\Anaconda\\envs\\test\\lib\\site-packages\\keras\\backend\\tensorflow_backend.py:3939: to_int32 (from tensorflow.python.ops.math_ops) is deprecated and will be removed in a future version.\n",
      "Instructions for updating:\n",
      "Use `tf.cast` instead.\n",
      "WARNING:tensorflow:From C:\\Users\\ydh09\\AppData\\Roaming\\Python\\Python36\\site-packages\\tensorflow\\python\\ops\\array_ops.py:1354: add_dispatch_support.<locals>.wrapper (from tensorflow.python.ops.array_ops) is deprecated and will be removed in a future version.\n",
      "Instructions for updating:\n",
      "Use tf.where in 2.0, which has the same broadcast rule as np.where\n",
      "WARNING:tensorflow:From G:\\Anaconda\\envs\\test\\lib\\site-packages\\keras\\backend\\tensorflow_backend.py:3919: to_int64 (from tensorflow.python.ops.math_ops) is deprecated and will be removed in a future version.\n",
      "Instructions for updating:\n",
      "Use `tf.cast` instead.\n",
      "skip\n",
      "129946  Image Loading start...\n",
      "True\n",
      "129946  Image Loading finish...\n",
      "25996  Image Loading start...\n",
      "True\n",
      "25996  Image Loading finish...\n"
     ]
    }
   ],
   "source": [
    "model = get_Model(training=True)\n",
    "\n",
    "try:\n",
    "    model.load_weights('LSTM+BN5--10--0.718.hdf5')\n",
    "    #model.load_weights('LSTM+BN5--25--0.402.hdf5')\n",
    "    #print(\"...Previous weight data...\")\n",
    "    print(\"skip\")\n",
    "except:\n",
    "    print(\"...New weight data...\")\n",
    "    pass\n",
    "\n",
    "train_file_path = './DB/train/'\n",
    "tiger_train = TextImageGenerator(train_file_path, img_w, img_h, batch_size, downsample_factor)\n",
    "tiger_train.build_data()\n",
    "\n",
    "valid_file_path = './DB/test/'\n",
    "tiger_val = TextImageGenerator(valid_file_path, img_w, img_h, val_batch_size, downsample_factor)\n",
    "tiger_val.build_data()\n",
    "\n"
   ]
  },
  {
   "cell_type": "code",
   "execution_count": 5,
   "metadata": {},
   "outputs": [
    {
     "name": "stdout",
     "output_type": "stream",
     "text": [
      "1 Physical GPUs, 1 Logical GPUs\n"
     ]
    }
   ],
   "source": [
    "\n",
    "gpus = tf.config.experimental.list_physical_devices('GPU')\n",
    "if gpus:\n",
    "  try:\n",
    "    # Currently, memory growth needs to be the same across GPUs\n",
    "    for gpu in gpus:\n",
    "      tf.config.experimental.set_memory_growth(gpu, True)\n",
    "    logical_gpus = tf.config.experimental.list_logical_devices('GPU')\n",
    "    print(len(gpus), \"Physical GPUs,\", len(logical_gpus), \"Logical GPUs\")\n",
    "  except RuntimeError as e:\n",
    "    # Memory growth must be set before GPUs have been initialized\n",
    "    print(e)\n",
    "\n"
   ]
  },
  {
   "cell_type": "code",
   "execution_count": null,
   "metadata": {},
   "outputs": [],
   "source": [
    "gpus = tf.config.experimental.list_physical_devices('GPU')\n",
    "if gpus:\n",
    "  # Restrict TensorFlow to only allocate 1GB of memory on the first GPU\n",
    "  try:\n",
    "    tf.config.experimental.set_virtual_device_configuration(\n",
    "        gpus[0],\n",
    "        [tf.config.experimental.VirtualDeviceConfiguration(memory_limit=4096)])\n",
    "    logical_gpus = tf.config.experimental.list_logical_devices('GPU')\n",
    "    print(len(gpus), \"Physical GPUs,\", len(logical_gpus), \"Logical GPUs\")\n",
    "  except RuntimeError as e:\n",
    "    # Virtual devices must be set before GPUs have been initialized\n",
    "    print(e)"
   ]
  },
  {
   "cell_type": "code",
   "execution_count": 6,
   "metadata": {},
   "outputs": [
    {
     "name": "stdout",
     "output_type": "stream",
     "text": [
      "WARNING:tensorflow:From G:\\Anaconda\\envs\\test\\lib\\site-packages\\keras\\optimizers.py:744: The name tf.train.Optimizer is deprecated. Please use tf.compat.v1.train.Optimizer instead.\n",
      "\n",
      "Epoch 1/30\n",
      "1014/1015 [============================>.] - ETA: 0s - loss: 7.2692\n",
      "Epoch 00001: saving model to LSTM+BN5--01--5.882.hdf5\n",
      "1015/1015 [==============================] - 413s 407ms/step - loss: 7.2638 - val_loss: 5.8817\n",
      "Epoch 2/30\n",
      "1014/1015 [============================>.] - ETA: 0s - loss: 2.0221\n",
      "Epoch 00002: saving model to LSTM+BN5--02--1.084.hdf5\n",
      "1015/1015 [==============================] - 400s 394ms/step - loss: 2.0214 - val_loss: 1.0840\n",
      "Epoch 3/30\n",
      "1014/1015 [============================>.] - ETA: 0s - loss: 0.8074\n",
      "Epoch 00003: saving model to LSTM+BN5--03--0.453.hdf5\n",
      "1015/1015 [==============================] - 397s 391ms/step - loss: 0.8070 - val_loss: 0.4525\n",
      "Epoch 4/30\n",
      "1014/1015 [============================>.] - ETA: 0s - loss: 0.4806\n",
      "Epoch 00004: saving model to LSTM+BN5--04--0.284.hdf5\n",
      "1015/1015 [==============================] - 400s 394ms/step - loss: 0.4804 - val_loss: 0.2840\n",
      "Epoch 5/30\n",
      "1014/1015 [============================>.] - ETA: 0s - loss: 0.2508\n",
      "Epoch 00005: saving model to LSTM+BN5--05--0.131.hdf5\n",
      "1015/1015 [==============================] - 400s 395ms/step - loss: 0.2507 - val_loss: 0.1311\n",
      "Epoch 6/30\n",
      "1014/1015 [============================>.] - ETA: 0s - loss: 0.1341\n",
      "Epoch 00006: saving model to LSTM+BN5--06--0.057.hdf5\n",
      "1015/1015 [==============================] - 402s 396ms/step - loss: 0.1340 - val_loss: 0.0574\n",
      "Epoch 7/30\n",
      "1014/1015 [============================>.] - ETA: 0s - loss: 0.0606\n",
      "Epoch 00007: saving model to LSTM+BN5--07--0.034.hdf5\n",
      "1015/1015 [==============================] - 399s 393ms/step - loss: 0.0606 - val_loss: 0.0344\n",
      "Epoch 8/30\n",
      "1014/1015 [============================>.] - ETA: 0s - loss: 0.2141\n",
      "Epoch 00008: saving model to LSTM+BN5--08--0.148.hdf5\n",
      "1015/1015 [==============================] - 402s 396ms/step - loss: 0.2139 - val_loss: 0.1480\n",
      "Epoch 9/30\n",
      "1014/1015 [============================>.] - ETA: 0s - loss: 0.0326\n",
      "Epoch 00009: saving model to LSTM+BN5--09--0.224.hdf5\n",
      "1015/1015 [==============================] - 398s 392ms/step - loss: 0.0328 - val_loss: 0.2239\n",
      "Epoch 10/30\n",
      "1014/1015 [============================>.] - ETA: 0s - loss: 0.6491\n",
      "Epoch 00010: saving model to LSTM+BN5--10--0.017.hdf5\n",
      "1015/1015 [==============================] - 365s 360ms/step - loss: 0.6485 - val_loss: 0.0167\n",
      "Epoch 11/30\n",
      "1014/1015 [============================>.] - ETA: 0s - loss: 0.0268\n",
      "Epoch 00011: saving model to LSTM+BN5--11--0.011.hdf5\n",
      "1015/1015 [==============================] - 364s 359ms/step - loss: 0.0268 - val_loss: 0.0105\n",
      "Epoch 12/30\n",
      "1014/1015 [============================>.] - ETA: 0s - loss: 0.0102\n",
      "Epoch 00012: saving model to LSTM+BN5--12--0.020.hdf5\n",
      "1015/1015 [==============================] - 365s 360ms/step - loss: 0.0103 - val_loss: 0.0201\n",
      "Epoch 13/30\n",
      "1014/1015 [============================>.] - ETA: 0s - loss: 0.0204\n",
      "Epoch 00013: saving model to LSTM+BN5--13--0.019.hdf5\n",
      "1015/1015 [==============================] - 368s 363ms/step - loss: 0.0204 - val_loss: 0.0193\n",
      "Epoch 14/30\n",
      "1014/1015 [============================>.] - ETA: 0s - loss: 0.0073\n",
      "Epoch 00014: saving model to LSTM+BN5--14--0.008.hdf5\n",
      "1015/1015 [==============================] - 375s 369ms/step - loss: 0.0073 - val_loss: 0.0082\n",
      "Epoch 15/30\n",
      "1014/1015 [============================>.] - ETA: 0s - loss: 0.0063\n",
      "Epoch 00015: saving model to LSTM+BN5--15--0.007.hdf5\n",
      "1015/1015 [==============================] - 366s 360ms/step - loss: 0.0063 - val_loss: 0.0066\n",
      "Epoch 16/30\n",
      "1014/1015 [============================>.] - ETA: 0s - loss: 0.0043\n",
      "Epoch 00016: saving model to LSTM+BN5--16--0.004.hdf5\n",
      "1015/1015 [==============================] - 368s 362ms/step - loss: 0.0043 - val_loss: 0.0041\n",
      "Epoch 17/30\n",
      "1014/1015 [============================>.] - ETA: 0s - loss: 0.0035\n",
      "Epoch 00017: saving model to LSTM+BN5--17--0.003.hdf5\n",
      "1015/1015 [==============================] - 367s 361ms/step - loss: 0.0035 - val_loss: 0.0026\n",
      "Epoch 18/30\n",
      "1014/1015 [============================>.] - ETA: 0s - loss: 7.8608e-04\n",
      "Epoch 00018: saving model to LSTM+BN5--18--0.003.hdf5\n",
      "1015/1015 [==============================] - 379s 373ms/step - loss: 7.8569e-04 - val_loss: 0.0027\n",
      "Epoch 19/30\n",
      "1014/1015 [============================>.] - ETA: 0s - loss: 5.1537e-04\n",
      "Epoch 00019: saving model to LSTM+BN5--19--0.002.hdf5\n",
      "1015/1015 [==============================] - 367s 362ms/step - loss: 5.1531e-04 - val_loss: 0.0019\n",
      "Epoch 20/30\n",
      "1014/1015 [============================>.] - ETA: 0s - loss: 0.0155\n",
      "Epoch 00020: saving model to LSTM+BN5--20--4.538.hdf5\n",
      "1015/1015 [==============================] - 364s 359ms/step - loss: 0.0174 - val_loss: 4.5379\n",
      "Epoch 21/30\n",
      "1014/1015 [============================>.] - ETA: 0s - loss: 0.3283\n",
      "Epoch 00021: saving model to LSTM+BN5--21--0.021.hdf5\n",
      "1015/1015 [==============================] - 365s 360ms/step - loss: 0.3280 - val_loss: 0.0214\n",
      "Epoch 22/30\n",
      "1014/1015 [============================>.] - ETA: 0s - loss: 0.0026\n",
      "Epoch 00022: saving model to LSTM+BN5--22--0.007.hdf5\n",
      "1015/1015 [==============================] - 367s 362ms/step - loss: 0.0026 - val_loss: 0.0065\n",
      "Epoch 23/30\n",
      "1014/1015 [============================>.] - ETA: 0s - loss: 0.0011\n",
      "Epoch 00023: saving model to LSTM+BN5--23--0.002.hdf5\n",
      "1015/1015 [==============================] - 370s 364ms/step - loss: 0.0011 - val_loss: 0.0016\n",
      "Epoch 24/30\n",
      "1014/1015 [============================>.] - ETA: 0s - loss: 0.0046\n",
      "Epoch 00024: saving model to LSTM+BN5--24--0.003.hdf5\n",
      "1015/1015 [==============================] - 365s 360ms/step - loss: 0.0046 - val_loss: 0.0026\n",
      "Epoch 25/30\n",
      "1014/1015 [============================>.] - ETA: 0s - loss: 3.5023e-04\n",
      "Epoch 00025: saving model to LSTM+BN5--25--0.002.hdf5\n",
      "1015/1015 [==============================] - 381s 376ms/step - loss: 3.5007e-04 - val_loss: 0.0017\n",
      "Epoch 26/30\n",
      "1014/1015 [============================>.] - ETA: 0s - loss: 3.8098e-04\n",
      "Epoch 00026: saving model to LSTM+BN5--26--0.002.hdf5\n",
      "1015/1015 [==============================] - 364s 359ms/step - loss: 3.8082e-04 - val_loss: 0.0016\n",
      "Epoch 27/30\n",
      "1014/1015 [============================>.] - ETA: 0s - loss: 2.3779e-04\n",
      "Epoch 00027: saving model to LSTM+BN5--27--0.002.hdf5\n",
      "1015/1015 [==============================] - 370s 365ms/step - loss: 2.3775e-04 - val_loss: 0.0016\n",
      "Epoch 28/30\n",
      "1014/1015 [============================>.] - ETA: 0s - loss: 2.1734e-04\n",
      "Epoch 00028: saving model to LSTM+BN5--28--0.001.hdf5\n",
      "1015/1015 [==============================] - 364s 358ms/step - loss: 2.1731e-04 - val_loss: 0.0014\n",
      "Epoch 29/30\n",
      "1014/1015 [============================>.] - ETA: 0s - loss: 2.0558e-04\n",
      "Epoch 00029: saving model to LSTM+BN5--29--0.001.hdf5\n",
      "1015/1015 [==============================] - 365s 360ms/step - loss: 2.0558e-04 - val_loss: 0.0015\n",
      "Epoch 30/30\n",
      "1014/1015 [============================>.] - ETA: 0s - loss: 1.9916e-04\n",
      "Epoch 00030: saving model to LSTM+BN5--30--0.001.hdf5\n",
      "1015/1015 [==============================] - 367s 361ms/step - loss: 1.9914e-04 - val_loss: 0.0014\n",
      "[7.263788044518732, 2.021435391521219, 0.8069849169753455, 0.48035212060060406, 0.25066615853990826, 0.13403819997065466, 0.060561628950750596, 0.21394496730235152, 0.03283238366551312, 0.6484621948791952, 0.02681222909584348, 0.0102819854953886, 0.020351523931110692, 0.007269339462836259, 0.006310985621731278, 0.004321105763651064, 0.0034931970199511566, 0.00078569210924121, 0.0005153117125929594, 0.017379118676275576, 0.3279710162807201, 0.0026400184269714643, 0.0010877625180896959, 0.004573027262010547, 0.00035007452320426775, 0.000380823667705394, 0.00023774772408198143, 0.00021731166269118655, 0.00020558115141064827, 0.00019914345533915065]\n"
     ]
    },
    {
     "ename": "KeyError",
     "evalue": "'acc'",
     "output_type": "error",
     "traceback": [
      "\u001b[1;31m---------------------------------------------------------------------------\u001b[0m",
      "\u001b[1;31mKeyError\u001b[0m                                  Traceback (most recent call last)",
      "\u001b[1;32m<ipython-input-6-9b4ea3fbebe5>\u001b[0m in \u001b[0;36m<module>\u001b[1;34m\u001b[0m\n\u001b[0;32m     15\u001b[0m \u001b[1;33m\u001b[0m\u001b[0m\n\u001b[0;32m     16\u001b[0m \u001b[0mprint\u001b[0m\u001b[1;33m(\u001b[0m\u001b[0mhist\u001b[0m\u001b[1;33m.\u001b[0m\u001b[0mhistory\u001b[0m\u001b[1;33m[\u001b[0m\u001b[1;34m'loss'\u001b[0m\u001b[1;33m]\u001b[0m\u001b[1;33m)\u001b[0m\u001b[1;33m\u001b[0m\u001b[1;33m\u001b[0m\u001b[0m\n\u001b[1;32m---> 17\u001b[1;33m \u001b[0mprint\u001b[0m\u001b[1;33m(\u001b[0m\u001b[0mhist\u001b[0m\u001b[1;33m.\u001b[0m\u001b[0mhistory\u001b[0m\u001b[1;33m[\u001b[0m\u001b[1;34m'acc'\u001b[0m\u001b[1;33m]\u001b[0m\u001b[1;33m)\u001b[0m\u001b[1;33m\u001b[0m\u001b[1;33m\u001b[0m\u001b[0m\n\u001b[0m\u001b[0;32m     18\u001b[0m \u001b[0mprint\u001b[0m\u001b[1;33m(\u001b[0m\u001b[0mhist\u001b[0m\u001b[1;33m.\u001b[0m\u001b[0mhistory\u001b[0m\u001b[1;33m[\u001b[0m\u001b[1;34m'val_loss'\u001b[0m\u001b[1;33m]\u001b[0m\u001b[1;33m)\u001b[0m\u001b[1;33m\u001b[0m\u001b[1;33m\u001b[0m\u001b[0m\n\u001b[0;32m     19\u001b[0m \u001b[0mprint\u001b[0m\u001b[1;33m(\u001b[0m\u001b[0mhist\u001b[0m\u001b[1;33m.\u001b[0m\u001b[0mhistory\u001b[0m\u001b[1;33m[\u001b[0m\u001b[1;34m'val_acc'\u001b[0m\u001b[1;33m]\u001b[0m\u001b[1;33m)\u001b[0m\u001b[1;33m\u001b[0m\u001b[1;33m\u001b[0m\u001b[0m\n",
      "\u001b[1;31mKeyError\u001b[0m: 'acc'"
     ]
    }
   ],
   "source": [
    "\n",
    "ada = Adadelta()\n",
    "\n",
    "early_stop = EarlyStopping(monitor='loss', min_delta=0.001, patience=4, mode='min', verbose=1)\n",
    "checkpoint = ModelCheckpoint(filepath='LSTM+BN5--{epoch:02d}--{val_loss:.3f}.hdf5', monitor='loss', verbose=1, mode='min', period=1)\n",
    "# the loss calc occurs elsewhere, so use a dummy lambda func for the loss\n",
    "model.compile(loss={'ctc': lambda y_true, y_pred: y_pred}, optimizer=ada)\n",
    "\n",
    "# captures output of softmax so we can decode the output during visualization\n",
    "hist = model.fit_generator(generator=tiger_train.next_batch(),\n",
    "                    steps_per_epoch=int(tiger_train.n / batch_size),\n",
    "                    epochs=30,\n",
    "                    callbacks=[checkpoint],\n",
    "                    validation_data=tiger_val.next_batch(),\n",
    "                    validation_steps=int(tiger_val.n / val_batch_size))\n",
    "\n",
    "print(hist.history['loss'])\n",
    "print(hist.history['acc'])\n",
    "print(hist.history['val_loss'])\n",
    "print(hist.history['val_acc'])\n",
    "\n",
    "import matplotlib.pyplot as plt\n",
    "\n",
    "fig, loss_ax = plt.subplots()\n",
    "\n",
    "acc_ax = loss_ax.twinx()\n",
    "\n",
    "loss_ax.plot(hist.history['loss'], 'y', label='train loss')\n",
    "loss_ax.plot(hist.history['val_loss'], 'r', label='val loss')\n",
    "\n",
    "acc_ax.plot(hist.history['acc'], 'b', label='train acc')\n",
    "acc_ax.plot(hist.history['val_acc'], 'g', label='val acc')\n",
    "\n",
    "loss_ax.set_xlabel('epoch')\n",
    "loss_ax.set_ylabel('loss')\n",
    "acc_ax.set_ylabel('accuray')\n",
    "\n",
    "loss_ax.legend(loc='upper left')\n",
    "acc_ax.legend(loc='lower left')\n",
    "\n",
    "plt.show()"
   ]
  },
  {
   "cell_type": "code",
   "execution_count": 8,
   "metadata": {},
   "outputs": [
    {
     "ename": "KeyError",
     "evalue": "'acc'",
     "output_type": "error",
     "traceback": [
      "\u001b[1;31m---------------------------------------------------------------------------\u001b[0m",
      "\u001b[1;31mKeyError\u001b[0m                                  Traceback (most recent call last)",
      "\u001b[1;32m<ipython-input-8-9563c30b7f93>\u001b[0m in \u001b[0;36m<module>\u001b[1;34m\u001b[0m\n\u001b[0;32m     13\u001b[0m \u001b[0mloss_ax\u001b[0m\u001b[1;33m.\u001b[0m\u001b[0mplot\u001b[0m\u001b[1;33m(\u001b[0m\u001b[0mhist\u001b[0m\u001b[1;33m.\u001b[0m\u001b[0mhistory\u001b[0m\u001b[1;33m[\u001b[0m\u001b[1;34m'val_loss'\u001b[0m\u001b[1;33m]\u001b[0m\u001b[1;33m,\u001b[0m \u001b[1;34m'r'\u001b[0m\u001b[1;33m,\u001b[0m \u001b[0mlabel\u001b[0m\u001b[1;33m=\u001b[0m\u001b[1;34m'val loss'\u001b[0m\u001b[1;33m)\u001b[0m\u001b[1;33m\u001b[0m\u001b[1;33m\u001b[0m\u001b[0m\n\u001b[0;32m     14\u001b[0m \u001b[1;33m\u001b[0m\u001b[0m\n\u001b[1;32m---> 15\u001b[1;33m \u001b[0macc_ax\u001b[0m\u001b[1;33m.\u001b[0m\u001b[0mplot\u001b[0m\u001b[1;33m(\u001b[0m\u001b[0mhist\u001b[0m\u001b[1;33m.\u001b[0m\u001b[0mhistory\u001b[0m\u001b[1;33m[\u001b[0m\u001b[1;34m'acc'\u001b[0m\u001b[1;33m]\u001b[0m\u001b[1;33m,\u001b[0m \u001b[1;34m'b'\u001b[0m\u001b[1;33m,\u001b[0m \u001b[0mlabel\u001b[0m\u001b[1;33m=\u001b[0m\u001b[1;34m'train acc'\u001b[0m\u001b[1;33m)\u001b[0m\u001b[1;33m\u001b[0m\u001b[1;33m\u001b[0m\u001b[0m\n\u001b[0m\u001b[0;32m     16\u001b[0m \u001b[0macc_ax\u001b[0m\u001b[1;33m.\u001b[0m\u001b[0mplot\u001b[0m\u001b[1;33m(\u001b[0m\u001b[0mhist\u001b[0m\u001b[1;33m.\u001b[0m\u001b[0mhistory\u001b[0m\u001b[1;33m[\u001b[0m\u001b[1;34m'val_acc'\u001b[0m\u001b[1;33m]\u001b[0m\u001b[1;33m,\u001b[0m \u001b[1;34m'g'\u001b[0m\u001b[1;33m,\u001b[0m \u001b[0mlabel\u001b[0m\u001b[1;33m=\u001b[0m\u001b[1;34m'val acc'\u001b[0m\u001b[1;33m)\u001b[0m\u001b[1;33m\u001b[0m\u001b[1;33m\u001b[0m\u001b[0m\n\u001b[0;32m     17\u001b[0m \u001b[1;33m\u001b[0m\u001b[0m\n",
      "\u001b[1;31mKeyError\u001b[0m: 'acc'"
     ]
    },
    {
     "data": {
      "image/png": "[encoded data removed]",
      "text/plain": [
       "<Figure size 432x288 with 2 Axes>"
      ]
     },
     "metadata": {
      "needs_background": "light"
     },
     "output_type": "display_data"
    }
   ],
   "source": [
    "#print(hist.history['loss'])\n",
    "#print(hist.history['acc'])\n",
    "#print(hist.history['val_loss'])\n",
    "#print(hist.history['val_acc'])\n",
    "\n",
    "import matplotlib.pyplot as plt\n",
    "\n",
    "fig, loss_ax = plt.subplots()\n",
    "\n",
    "acc_ax = loss_ax.twinx()\n",
    "\n",
    "loss_ax.plot(hist.history['loss'], 'y', label='train loss')\n",
    "loss_ax.plot(hist.history['val_loss'], 'r', label='val loss')\n",
    "\n",
    "acc_ax.plot(hist.history['acc'], 'b', label='train acc')\n",
    "acc_ax.plot(hist.history['val_acc'], 'g', label='val acc')\n",
    "\n",
    "loss_ax.set_xlabel('epoch')\n",
    "loss_ax.set_ylabel('loss')\n",
    "acc_ax.set_ylabel('accuray')\n",
    "\n",
    "loss_ax.legend(loc='upper left')\n",
    "acc_ax.legend(loc='lower left')\n",
    "\n"
   ]
  },
  {
   "cell_type": "code",
   "execution_count": null,
   "metadata": {
    "scrolled": true
   },
   "outputs": [],
   "source": [
    "!python Prediction.py -w \"LSTM+BN5--30--0.001.hdf5\" -t \"./DB/real_test/\""
   ]
  },
  {
   "cell_type": "code",
   "execution_count": null,
   "metadata": {},
   "outputs": [],
   "source": [
    "!python Prediction.py -w \"LSTM+BN5--29--0.250.hdf5\" -t \"./DB/test/\""
   ]
  },
  {
   "cell_type": "code",
   "execution_count": null,
   "metadata": {},
   "outputs": [],
   "source": [
    "!python Prediction.py -w \"LSTM+BN5--15--0.951.hdf5\" -t \"./DB/real_test/\""
   ]
  },
  {
   "cell_type": "code",
   "execution_count": null,
   "metadata": {},
   "outputs": [],
   "source": [
    "!python Prediction.py -w \"LSTM+BN5--50--0.889.hdf5\" -t \"./DB/real_test/\""
   ]
  },
  {
   "cell_type": "code",
   "execution_count": null,
   "metadata": {},
   "outputs": [],
   "source": []
  },
  {
   "cell_type": "code",
   "execution_count": null,
   "metadata": {},
   "outputs": [],
   "source": []
  },
  {
   "cell_type": "code",
   "execution_count": null,
   "metadata": {},
   "outputs": [],
   "source": []
  },
  {
   "cell_type": "code",
   "execution_count": null,
   "metadata": {},
   "outputs": [],
   "source": []
  },
  {
   "cell_type": "code",
   "execution_count": null,
   "metadata": {},
   "outputs": [],
   "source": []
  }
 ],
 "metadata": {
  "kernelspec": {
   "display_name": "Python 3",
   "language": "python",
   "name": "python3"
  },
  "language_info": {
   "codemirror_mode": {
    "name": "ipython",
    "version": 3
   },
   "file_extension": ".py",
   "mimetype": "text/x-python",
   "name": "python",
   "nbconvert_exporter": "python",
   "pygments_lexer": "ipython3",
   "version": "3.6.10"
  }
 },
 "nbformat": 4,
 "nbformat_minor": 4
}
