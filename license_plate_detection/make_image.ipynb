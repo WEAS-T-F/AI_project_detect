{
 "metadata": {
  "language_info": {
   "codemirror_mode": {
    "name": "ipython",
    "version": 3
   },
   "file_extension": ".py",
   "mimetype": "text/x-python",
   "name": "python",
   "nbconvert_exporter": "python",
   "pygments_lexer": "ipython3",
   "version": 3
  },
  "orig_nbformat": 2,
  "kernelspec": {
   "name": "python_defaultSpec_1596615814398",
   "display_name": "Python 3.6.10 64-bit ('pytensor36': conda)"
  }
 },
 "nbformat": 4,
 "nbformat_minor": 2,
 "cells": [
  {
   "cell_type": "code",
   "execution_count": 1,
   "metadata": {
    "tags": []
   },
   "outputs": [
    {
     "output_type": "stream",
     "name": "stdout",
     "text": "d:\\ai_project\\ai_1st_project\\license_plate_detection\\Korean-license-plate-Generator\n"
    }
   ],
   "source": [
    "cd Korean-license-plate-Generator\n"
   ]
  },
  {
   "cell_type": "code",
   "execution_count": null,
   "metadata": {},
   "outputs": [],
   "source": [
    "# default 경로로 train data 생성하기 original의 경우 type 9개로 *9"
   ]
  },
  {
   "cell_type": "code",
   "execution_count": null,
   "metadata": {},
   "outputs": [],
   "source": [
    "python Generator_original.py -n 10000\n",
    "python Generator_augmentation.py -n 1000\n",
    "python Generator_perspective.py -n 1000"
   ]
  },
  {
   "cell_type": "code",
   "execution_count": 4,
   "metadata": {},
   "outputs": [],
   "source": [
    "# test 데이터 생성하기 -n 뒤에 원하는 데이터셋 개수 ( Original 의 경우 * 9) "
   ]
  },
  {
   "cell_type": "code",
   "execution_count": 3,
   "metadata": {
    "tags": []
   },
   "outputs": [
    {
     "output_type": "stream",
     "name": "stdout",
     "text": "Type 1 finish\nType 2 finish\nType 3 finish\nType 4 finish\nType 5 finish\nType 6 finish\nType 7 finish\nType 8 finish\nType 9 finish\n"
    }
   ],
   "source": [
    "!python Generator_original.py -n 100 -i ../DB/test/"
   ]
  },
  {
   "cell_type": "code",
   "execution_count": null,
   "metadata": {},
   "outputs": [],
   "source": []
  }
 ]
}